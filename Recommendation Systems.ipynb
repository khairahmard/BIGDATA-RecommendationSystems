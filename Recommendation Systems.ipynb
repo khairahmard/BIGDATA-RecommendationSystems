{
 "cells": [
  {
   "cell_type": "code",
   "execution_count": 1,
   "metadata": {},
   "outputs": [],
   "source": [
    "import findspark\n",
    "findspark.init()"
   ]
  },
  {
   "cell_type": "code",
   "execution_count": 2,
   "metadata": {},
   "outputs": [
    {
     "name": "stdout",
     "output_type": "stream",
     "text": [
      "<pyspark.sql.session.SparkSession object at 0x000002309DFE33C8>\n"
     ]
    }
   ],
   "source": [
    "from pyspark.sql import SparkSession\n",
    "\n",
    "# Create Spark Session\n",
    "spark = SparkSession \\\n",
    "    .builder \\\n",
    "    .appName(\"Python Spark Recommendation Systems\") \\\n",
    "    .getOrCreate()\n",
    "\n",
    "print(spark)"
   ]
  },
  {
   "cell_type": "code",
   "execution_count": 3,
   "metadata": {},
   "outputs": [],
   "source": [
    "from pyspark.ml.evaluation import RegressionEvaluator\n",
    "from pyspark.ml.recommendation import ALS\n",
    "from pyspark.sql import Row"
   ]
  },
  {
   "cell_type": "markdown",
   "metadata": {},
   "source": [
    "## Praproses"
   ]
  },
  {
   "cell_type": "code",
   "execution_count": 5,
   "metadata": {},
   "outputs": [],
   "source": [
    "lines = spark.read.text(\"ratings.txt\").rdd"
   ]
  },
  {
   "cell_type": "code",
   "execution_count": 6,
   "metadata": {},
   "outputs": [
    {
     "name": "stdout",
     "output_type": "stream",
     "text": [
      "[Row(value='1::1193::5::978300760'), Row(value='1::661::3::978302109'), Row(value='1::914::3::978301968'), Row(value='1::3408::4::978300275'), Row(value='1::2355::5::978824291')]\n"
     ]
    }
   ],
   "source": [
    "print(lines.take(5))"
   ]
  },
  {
   "cell_type": "code",
   "execution_count": 7,
   "metadata": {},
   "outputs": [],
   "source": [
    "parts = lines.map(lambda row: row.value.split(\"::\"))"
   ]
  },
  {
   "cell_type": "code",
   "execution_count": 8,
   "metadata": {},
   "outputs": [],
   "source": [
    "ratingsRDD = parts.map(lambda p: Row(UserId=int(p[0]), MovieId=int(p[1]),\n",
    "                                     Rating=float(p[2]), Timestamp=int(p[3])))"
   ]
  },
  {
   "cell_type": "code",
   "execution_count": 9,
   "metadata": {},
   "outputs": [
    {
     "name": "stdout",
     "output_type": "stream",
     "text": [
      "[Row(MovieId=1193, Rating=5.0, Timestamp=978300760, UserId=1), Row(MovieId=661, Rating=3.0, Timestamp=978302109, UserId=1), Row(MovieId=914, Rating=3.0, Timestamp=978301968, UserId=1), Row(MovieId=3408, Rating=4.0, Timestamp=978300275, UserId=1), Row(MovieId=2355, Rating=5.0, Timestamp=978824291, UserId=1)]\n"
     ]
    }
   ],
   "source": [
    "print(ratingsRDD.take(5))"
   ]
  },
  {
   "cell_type": "code",
   "execution_count": 10,
   "metadata": {},
   "outputs": [
    {
     "name": "stdout",
     "output_type": "stream",
     "text": [
      "+-------+------+---------+------+\n",
      "|MovieId|Rating|Timestamp|UserId|\n",
      "+-------+------+---------+------+\n",
      "|   1193|   5.0|978300760|     1|\n",
      "|    661|   3.0|978302109|     1|\n",
      "|    914|   3.0|978301968|     1|\n",
      "|   3408|   4.0|978300275|     1|\n",
      "|   2355|   5.0|978824291|     1|\n",
      "|   1197|   3.0|978302268|     1|\n",
      "|   1287|   5.0|978302039|     1|\n",
      "|   2804|   5.0|978300719|     1|\n",
      "|    594|   4.0|978302268|     1|\n",
      "|    919|   4.0|978301368|     1|\n",
      "|    595|   5.0|978824268|     1|\n",
      "|    938|   4.0|978301752|     1|\n",
      "|   2398|   4.0|978302281|     1|\n",
      "|   2918|   4.0|978302124|     1|\n",
      "|   1035|   5.0|978301753|     1|\n",
      "|   2791|   4.0|978302188|     1|\n",
      "|   2687|   3.0|978824268|     1|\n",
      "|   2018|   4.0|978301777|     1|\n",
      "|   3105|   5.0|978301713|     1|\n",
      "|   2797|   4.0|978302039|     1|\n",
      "+-------+------+---------+------+\n",
      "only showing top 20 rows\n",
      "\n"
     ]
    }
   ],
   "source": [
    "ratings = spark.createDataFrame(ratingsRDD)\n",
    "ratings.show()"
   ]
  },
  {
   "cell_type": "markdown",
   "metadata": {},
   "source": [
    "## Create Model"
   ]
  },
  {
   "cell_type": "code",
   "execution_count": 11,
   "metadata": {},
   "outputs": [],
   "source": [
    "(training, test) = ratings.randomSplit([0.8, 0.2])"
   ]
  },
  {
   "cell_type": "code",
   "execution_count": 12,
   "metadata": {},
   "outputs": [],
   "source": [
    "# Build the recommendation model using ALS on the training data\n",
    "# Note we set cold start strategy to 'drop' to ensure we don't get NaN evaluation metrics\n",
    "als = ALS(maxIter=5, regParam=0.01, userCol=\"UserId\", itemCol=\"MovieId\", ratingCol=\"Rating\",\n",
    "          coldStartStrategy=\"drop\")\n",
    "model = als.fit(training)"
   ]
  },
  {
   "cell_type": "code",
   "execution_count": 13,
   "metadata": {},
   "outputs": [
    {
     "name": "stdout",
     "output_type": "stream",
     "text": [
      "Root-mean-square error = 0.8946665353040703\n"
     ]
    }
   ],
   "source": [
    "# Evaluate the model by computing the RMSE on the test data\n",
    "predictions = model.transform(test)\n",
    "evaluator = RegressionEvaluator(metricName=\"rmse\", labelCol=\"Rating\",\n",
    "                                predictionCol=\"prediction\")\n",
    "rmse = evaluator.evaluate(predictions)\n",
    "print(\"Root-mean-square error = \" + str(rmse))"
   ]
  },
  {
   "cell_type": "code",
   "execution_count": 14,
   "metadata": {},
   "outputs": [],
   "source": [
    "# Generate top 10 movie recommendations for each user\n",
    "userRecs = model.recommendForAllUsers(10)\n",
    "# Generate top 10 user recommendations for each movie\n",
    "movieRecs = model.recommendForAllItems(10)"
   ]
  },
  {
   "cell_type": "code",
   "execution_count": 15,
   "metadata": {},
   "outputs": [
    {
     "name": "stdout",
     "output_type": "stream",
     "text": [
      "+------+--------------------+\n",
      "|UserId|     recommendations|\n",
      "+------+--------------------+\n",
      "|  1580|[[2964, 9.841737]...|\n",
      "|  4900|[[2776, 7.6694064...|\n",
      "|  5300|[[3003, 6.2810597...|\n",
      "|   471|[[2197, 7.755476]...|\n",
      "|  1591|[[666, 6.2788205]...|\n",
      "|  4101|[[3867, 11.383509...|\n",
      "|  1342|[[3867, 6.652906]...|\n",
      "|  2122|[[3382, 6.647959]...|\n",
      "|  2142|[[2332, 8.078419]...|\n",
      "|   463|[[1038, 6.728911]...|\n",
      "|   833|[[2512, 13.647819...|\n",
      "|  5803|[[97, 10.026361],...|\n",
      "|  3794|[[3003, 10.132432...|\n",
      "|  1645|[[2063, 8.683527]...|\n",
      "|  3175|[[2192, 7.945146]...|\n",
      "|  4935|[[1038, 9.170467]...|\n",
      "|   496|[[3867, 9.285571]...|\n",
      "|  2366|[[3050, 6.762451]...|\n",
      "|  2866|[[3003, 7.2467127...|\n",
      "|  5156|[[2658, 6.864898]...|\n",
      "+------+--------------------+\n",
      "only showing top 20 rows\n",
      "\n"
     ]
    }
   ],
   "source": [
    "userRecs.show()"
   ]
  },
  {
   "cell_type": "code",
   "execution_count": 16,
   "metadata": {},
   "outputs": [
    {
     "name": "stdout",
     "output_type": "stream",
     "text": [
      "+-------+--------------------+\n",
      "|MovieId|     recommendations|\n",
      "+-------+--------------------+\n",
      "|   1580|[[2867, 5.493834]...|\n",
      "|    471|[[283, 5.735796],...|\n",
      "|   1591|[[1445, 5.484816]...|\n",
      "|   1342|[[5816, 6.1502576...|\n",
      "|   2122|[[708, 7.366824],...|\n",
      "|   2142|[[4283, 4.890501]...|\n",
      "|    463|[[642, 8.316989],...|\n",
      "|    833|[[5214, 7.1485615...|\n",
      "|   3794|[[4703, 8.85114],...|\n",
      "|   1645|[[2534, 6.2322097...|\n",
      "|   3175|[[41, 6.254596], ...|\n",
      "|    496|[[3545, 8.806262]...|\n",
      "|   2366|[[128, 7.266315],...|\n",
      "|   2866|[[168, 5.535595],...|\n",
      "|    148|[[357, 9.270704],...|\n",
      "|   1088|[[41, 7.566494], ...|\n",
      "|   1238|[[2375, 7.319431]...|\n",
      "|   3918|[[5328, 7.3013663...|\n",
      "|   1829|[[642, 8.107708],...|\n",
      "|   1959|[[41, 6.1934733],...|\n",
      "+-------+--------------------+\n",
      "only showing top 20 rows\n",
      "\n"
     ]
    }
   ],
   "source": [
    "movieRecs.show()"
   ]
  },
  {
   "cell_type": "code",
   "execution_count": null,
   "metadata": {},
   "outputs": [],
   "source": []
  }
 ],
 "metadata": {
  "kernelspec": {
   "display_name": "Python 3",
   "language": "python",
   "name": "python3"
  },
  "language_info": {
   "codemirror_mode": {
    "name": "ipython",
    "version": 3
   },
   "file_extension": ".py",
   "mimetype": "text/x-python",
   "name": "python",
   "nbconvert_exporter": "python",
   "pygments_lexer": "ipython3",
   "version": "3.6.4"
  }
 },
 "nbformat": 4,
 "nbformat_minor": 2
}
