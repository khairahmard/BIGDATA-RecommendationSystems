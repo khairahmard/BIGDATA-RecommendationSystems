{
 "cells": [
  {
   "cell_type": "code",
   "execution_count": 1,
   "metadata": {},
   "outputs": [],
   "source": [
    "import findspark\n",
    "findspark.init()"
   ]
  },
  {
   "cell_type": "code",
   "execution_count": 2,
   "metadata": {},
   "outputs": [
    {
     "name": "stdout",
     "output_type": "stream",
     "text": [
      "<pyspark.sql.session.SparkSession object at 0x0000013B3D403470>\n"
     ]
    }
   ],
   "source": [
    "from pyspark.sql import SparkSession\n",
    "\n",
    "# Create Spark Session\n",
    "spark = SparkSession \\\n",
    "    .builder \\\n",
    "    .appName(\"Python Spark Recommendation Systems\") \\\n",
    "    .getOrCreate()\n",
    "\n",
    "print(spark)"
   ]
  },
  {
   "cell_type": "code",
   "execution_count": 3,
   "metadata": {},
   "outputs": [],
   "source": [
    "from pyspark.ml.evaluation import RegressionEvaluator\n",
    "from pyspark.ml.recommendation import ALS\n",
    "from pyspark.sql import Row\n",
    "from pyspark.sql import types"
   ]
  },
  {
   "cell_type": "markdown",
   "metadata": {},
   "source": [
    "## Praproses"
   ]
  },
  {
   "cell_type": "code",
   "execution_count": 7,
   "metadata": {},
   "outputs": [],
   "source": [
    "ratings = spark.read.csv(\"D:/Spark/Tugas4/ml-1m/ratings.csv\", header=True, inferSchema=True)"
   ]
  },
  {
   "cell_type": "code",
   "execution_count": 17,
   "metadata": {},
   "outputs": [
    {
     "name": "stdout",
     "output_type": "stream",
     "text": [
      "+------+-------+------+---------+\n",
      "|userId|movieId|rating|timestamp|\n",
      "+------+-------+------+---------+\n",
      "|     1|   1193|   5.0|978300760|\n",
      "|     1|    661|   3.0|978302109|\n",
      "|     1|    914|   3.0|978301968|\n",
      "|     1|   3408|   4.0|978300275|\n",
      "|     1|   2355|   5.0|978824291|\n",
      "|     1|   1197|   3.0|978302268|\n",
      "|     1|   1287|   5.0|978302039|\n",
      "|     1|   2804|   5.0|978300719|\n",
      "|     1|    594|   4.0|978302268|\n",
      "|     1|    919|   4.0|978301368|\n",
      "|     1|    595|   5.0|978824268|\n",
      "|     1|    938|   4.0|978301752|\n",
      "|     1|   2398|   4.0|978302281|\n",
      "|     1|   2918|   4.0|978302124|\n",
      "|     1|   1035|   5.0|978301753|\n",
      "|     1|   2791|   4.0|978302188|\n",
      "|     1|   2687|   3.0|978824268|\n",
      "|     1|   2018|   4.0|978301777|\n",
      "|     1|   3105|   5.0|978301713|\n",
      "|     1|   2797|   4.0|978302039|\n",
      "+------+-------+------+---------+\n",
      "only showing top 20 rows\n",
      "\n"
     ]
    }
   ],
   "source": [
    "ratings.show()"
   ]
  },
  {
   "cell_type": "markdown",
   "metadata": {},
   "source": [
    "## Buat Model"
   ]
  },
  {
   "cell_type": "code",
   "execution_count": 9,
   "metadata": {},
   "outputs": [],
   "source": [
    "(training, test) = ratings.randomSplit([0.8, 0.2])"
   ]
  },
  {
   "cell_type": "code",
   "execution_count": 11,
   "metadata": {},
   "outputs": [],
   "source": [
    "# Build the recommendation model using ALS on the training data\n",
    "# Note we set cold start strategy to 'drop' to ensure we don't get NaN evaluation metrics\n",
    "als = ALS(maxIter=5, regParam=0.01, userCol=\"userId\", itemCol=\"movieId\", ratingCol=\"rating\",\n",
    "          coldStartStrategy=\"drop\")\n",
    "model = als.fit(training)"
   ]
  },
  {
   "cell_type": "code",
   "execution_count": 12,
   "metadata": {},
   "outputs": [
    {
     "name": "stdout",
     "output_type": "stream",
     "text": [
      "Root-mean-square error = 0.8985696539020004\n"
     ]
    }
   ],
   "source": [
    "# Evaluate the model by computing the RMSE on the test data\n",
    "predictions = model.transform(test)\n",
    "evaluator = RegressionEvaluator(metricName=\"rmse\", labelCol=\"rating\",\n",
    "                                predictionCol=\"prediction\")\n",
    "rmse = evaluator.evaluate(predictions)\n",
    "print(\"Root-mean-square error = \" + str(rmse))"
   ]
  },
  {
   "cell_type": "code",
   "execution_count": 13,
   "metadata": {},
   "outputs": [],
   "source": [
    "# Generate top 10 movie recommendations for each user\n",
    "userRecs = model.recommendForAllUsers(10)\n",
    "# Generate top 10 user recommendations for each movie\n",
    "movieRecs = model.recommendForAllItems(10)"
   ]
  },
  {
   "cell_type": "code",
   "execution_count": 14,
   "metadata": {},
   "outputs": [
    {
     "name": "stdout",
     "output_type": "stream",
     "text": [
      "+------+--------------------+\n",
      "|userId|     recommendations|\n",
      "+------+--------------------+\n",
      "|  1580|[[1310, 10.385049...|\n",
      "|  4900|[[1725, 11.129892...|\n",
      "|  5300|[[2964, 6.7413874...|\n",
      "|   471|[[2192, 7.088834]...|\n",
      "|  1591|[[2931, 6.7828236...|\n",
      "|  4101|[[2847, 7.731414]...|\n",
      "|  1342|[[1349, 6.6957526...|\n",
      "|  2122|[[2545, 6.4478855...|\n",
      "|  2142|[[939, 8.143927],...|\n",
      "|   463|[[751, 6.943112],...|\n",
      "|   833|[[2964, 14.549758...|\n",
      "|  5803|[[718, 10.501891]...|\n",
      "|  3794|[[769, 7.9112906]...|\n",
      "|  1645|[[1312, 8.693449]...|\n",
      "|  3175|[[2192, 8.199085]...|\n",
      "|  4935|[[2493, 10.201505...|\n",
      "|   496|[[864, 7.842164],...|\n",
      "|  2366|[[1930, 6.430979]...|\n",
      "|  2866|[[2545, 9.700056]...|\n",
      "|  5156|[[2964, 7.2584934...|\n",
      "+------+--------------------+\n",
      "only showing top 20 rows\n",
      "\n"
     ]
    }
   ],
   "source": [
    "userRecs.show()"
   ]
  },
  {
   "cell_type": "code",
   "execution_count": 15,
   "metadata": {},
   "outputs": [
    {
     "name": "stdout",
     "output_type": "stream",
     "text": [
      "+-------+--------------------+\n",
      "|movieId|     recommendations|\n",
      "+-------+--------------------+\n",
      "|   1580|[[283, 5.306515],...|\n",
      "|    471|[[4419, 6.8512573...|\n",
      "|   1591|[[5863, 5.7814198...|\n",
      "|   1342|[[3915, 6.3527994...|\n",
      "|   2122|[[1070, 6.9072304...|\n",
      "|   2142|[[2364, 5.4755573...|\n",
      "|    463|[[1596, 8.50619],...|\n",
      "|    833|[[5274, 6.641812]...|\n",
      "|   3794|[[4383, 10.221345...|\n",
      "|   1645|[[5863, 5.820272]...|\n",
      "|   3175|[[1213, 6.221288]...|\n",
      "|    496|[[1083, 12.426367...|\n",
      "|   2366|[[1412, 5.9890537...|\n",
      "|   2866|[[1989, 5.7216725...|\n",
      "|    148|[[1989, 11.069554...|\n",
      "|   1088|[[2138, 6.371765]...|\n",
      "|   1238|[[5810, 6.2747455...|\n",
      "|   3918|[[4996, 6.8078327...|\n",
      "|   1829|[[491, 10.91073],...|\n",
      "|   1959|[[440, 7.313812],...|\n",
      "+-------+--------------------+\n",
      "only showing top 20 rows\n",
      "\n"
     ]
    }
   ],
   "source": [
    "movieRecs.show()"
   ]
  },
  {
   "cell_type": "code",
   "execution_count": null,
   "metadata": {},
   "outputs": [],
   "source": []
  }
 ],
 "metadata": {
  "kernelspec": {
   "display_name": "Python 3",
   "language": "python",
   "name": "python3"
  },
  "language_info": {
   "codemirror_mode": {
    "name": "ipython",
    "version": 3
   },
   "file_extension": ".py",
   "mimetype": "text/x-python",
   "name": "python",
   "nbconvert_exporter": "python",
   "pygments_lexer": "ipython3",
   "version": "3.6.4"
  }
 },
 "nbformat": 4,
 "nbformat_minor": 2
}
